{
  "nbformat": 4,
  "nbformat_minor": 0,
  "metadata": {
    "colab": {
      "name": "Mnist_dataset.ipynb",
      "provenance": [],
      "collapsed_sections": []
    },
    "kernelspec": {
      "name": "python3",
      "display_name": "Python 3"
    },
    "widgets": {
      "application/vnd.jupyter.widget-state+json": {
        "09398ef2563b47d0b37961c73335575d": {
          "model_module": "@jupyter-widgets/controls",
          "model_name": "HBoxModel",
          "state": {
            "_view_name": "HBoxView",
            "_dom_classes": [],
            "_model_name": "HBoxModel",
            "_view_module": "@jupyter-widgets/controls",
            "_model_module_version": "1.5.0",
            "_view_count": null,
            "_view_module_version": "1.5.0",
            "box_style": "",
            "layout": "IPY_MODEL_f91b3609ffee4cbcba528f98b52b9887",
            "_model_module": "@jupyter-widgets/controls",
            "children": [
              "IPY_MODEL_1a7bb082d5eb4baf8a1606000da55d02",
              "IPY_MODEL_ceb725e78b084fb9982f1ffc90a330ed"
            ]
          }
        },
        "f91b3609ffee4cbcba528f98b52b9887": {
          "model_module": "@jupyter-widgets/base",
          "model_name": "LayoutModel",
          "state": {
            "_view_name": "LayoutView",
            "grid_template_rows": null,
            "right": null,
            "justify_content": null,
            "_view_module": "@jupyter-widgets/base",
            "overflow": null,
            "_model_module_version": "1.2.0",
            "_view_count": null,
            "flex_flow": null,
            "width": null,
            "min_width": null,
            "border": null,
            "align_items": null,
            "bottom": null,
            "_model_module": "@jupyter-widgets/base",
            "top": null,
            "grid_column": null,
            "overflow_y": null,
            "overflow_x": null,
            "grid_auto_flow": null,
            "grid_area": null,
            "grid_template_columns": null,
            "flex": null,
            "_model_name": "LayoutModel",
            "justify_items": null,
            "grid_row": null,
            "max_height": null,
            "align_content": null,
            "visibility": null,
            "align_self": null,
            "height": null,
            "min_height": null,
            "padding": null,
            "grid_auto_rows": null,
            "grid_gap": null,
            "max_width": null,
            "order": null,
            "_view_module_version": "1.2.0",
            "grid_template_areas": null,
            "object_position": null,
            "object_fit": null,
            "grid_auto_columns": null,
            "margin": null,
            "display": null,
            "left": null
          }
        },
        "1a7bb082d5eb4baf8a1606000da55d02": {
          "model_module": "@jupyter-widgets/controls",
          "model_name": "FloatProgressModel",
          "state": {
            "_view_name": "ProgressView",
            "style": "IPY_MODEL_0b80fa022d5f4d298048845e756a84a4",
            "_dom_classes": [],
            "description": "Dl Completed...: 100%",
            "_model_name": "FloatProgressModel",
            "bar_style": "success",
            "max": 4,
            "_view_module": "@jupyter-widgets/controls",
            "_model_module_version": "1.5.0",
            "value": 4,
            "_view_count": null,
            "_view_module_version": "1.5.0",
            "orientation": "horizontal",
            "min": 0,
            "description_tooltip": null,
            "_model_module": "@jupyter-widgets/controls",
            "layout": "IPY_MODEL_5368c572de6d4c84b2a9227a7c8cb3d9"
          }
        },
        "ceb725e78b084fb9982f1ffc90a330ed": {
          "model_module": "@jupyter-widgets/controls",
          "model_name": "HTMLModel",
          "state": {
            "_view_name": "HTMLView",
            "style": "IPY_MODEL_28e34bf1dc714c898a86d675ecebc26f",
            "_dom_classes": [],
            "description": "",
            "_model_name": "HTMLModel",
            "placeholder": "​",
            "_view_module": "@jupyter-widgets/controls",
            "_model_module_version": "1.5.0",
            "value": " 4/4 [00:00&lt;00:00,  4.56 file/s]",
            "_view_count": null,
            "_view_module_version": "1.5.0",
            "description_tooltip": null,
            "_model_module": "@jupyter-widgets/controls",
            "layout": "IPY_MODEL_8f75ffe4267b43e59f5bcd09886bfa52"
          }
        },
        "0b80fa022d5f4d298048845e756a84a4": {
          "model_module": "@jupyter-widgets/controls",
          "model_name": "ProgressStyleModel",
          "state": {
            "_view_name": "StyleView",
            "_model_name": "ProgressStyleModel",
            "description_width": "initial",
            "_view_module": "@jupyter-widgets/base",
            "_model_module_version": "1.5.0",
            "_view_count": null,
            "_view_module_version": "1.2.0",
            "bar_color": null,
            "_model_module": "@jupyter-widgets/controls"
          }
        },
        "5368c572de6d4c84b2a9227a7c8cb3d9": {
          "model_module": "@jupyter-widgets/base",
          "model_name": "LayoutModel",
          "state": {
            "_view_name": "LayoutView",
            "grid_template_rows": null,
            "right": null,
            "justify_content": null,
            "_view_module": "@jupyter-widgets/base",
            "overflow": null,
            "_model_module_version": "1.2.0",
            "_view_count": null,
            "flex_flow": null,
            "width": null,
            "min_width": null,
            "border": null,
            "align_items": null,
            "bottom": null,
            "_model_module": "@jupyter-widgets/base",
            "top": null,
            "grid_column": null,
            "overflow_y": null,
            "overflow_x": null,
            "grid_auto_flow": null,
            "grid_area": null,
            "grid_template_columns": null,
            "flex": null,
            "_model_name": "LayoutModel",
            "justify_items": null,
            "grid_row": null,
            "max_height": null,
            "align_content": null,
            "visibility": null,
            "align_self": null,
            "height": null,
            "min_height": null,
            "padding": null,
            "grid_auto_rows": null,
            "grid_gap": null,
            "max_width": null,
            "order": null,
            "_view_module_version": "1.2.0",
            "grid_template_areas": null,
            "object_position": null,
            "object_fit": null,
            "grid_auto_columns": null,
            "margin": null,
            "display": null,
            "left": null
          }
        },
        "28e34bf1dc714c898a86d675ecebc26f": {
          "model_module": "@jupyter-widgets/controls",
          "model_name": "DescriptionStyleModel",
          "state": {
            "_view_name": "StyleView",
            "_model_name": "DescriptionStyleModel",
            "description_width": "",
            "_view_module": "@jupyter-widgets/base",
            "_model_module_version": "1.5.0",
            "_view_count": null,
            "_view_module_version": "1.2.0",
            "_model_module": "@jupyter-widgets/controls"
          }
        },
        "8f75ffe4267b43e59f5bcd09886bfa52": {
          "model_module": "@jupyter-widgets/base",
          "model_name": "LayoutModel",
          "state": {
            "_view_name": "LayoutView",
            "grid_template_rows": null,
            "right": null,
            "justify_content": null,
            "_view_module": "@jupyter-widgets/base",
            "overflow": null,
            "_model_module_version": "1.2.0",
            "_view_count": null,
            "flex_flow": null,
            "width": null,
            "min_width": null,
            "border": null,
            "align_items": null,
            "bottom": null,
            "_model_module": "@jupyter-widgets/base",
            "top": null,
            "grid_column": null,
            "overflow_y": null,
            "overflow_x": null,
            "grid_auto_flow": null,
            "grid_area": null,
            "grid_template_columns": null,
            "flex": null,
            "_model_name": "LayoutModel",
            "justify_items": null,
            "grid_row": null,
            "max_height": null,
            "align_content": null,
            "visibility": null,
            "align_self": null,
            "height": null,
            "min_height": null,
            "padding": null,
            "grid_auto_rows": null,
            "grid_gap": null,
            "max_width": null,
            "order": null,
            "_view_module_version": "1.2.0",
            "grid_template_areas": null,
            "object_position": null,
            "object_fit": null,
            "grid_auto_columns": null,
            "margin": null,
            "display": null,
            "left": null
          }
        }
      }
    }
  },
  "cells": [
    {
      "cell_type": "code",
      "metadata": {
        "id": "1u9F_N-M05tR",
        "colab_type": "code",
        "colab": {}
      },
      "source": [
        "import numpy as np\n",
        "import tensorflow as tf\n",
        "import tensorflow_datasets as tfds"
      ],
      "execution_count": 1,
      "outputs": []
    },
    {
      "cell_type": "code",
      "metadata": {
        "id": "Ep0-Q-R01A-A",
        "colab_type": "code",
        "colab": {
          "base_uri": "https://localhost:8080/",
          "height": 202,
          "referenced_widgets": [
            "09398ef2563b47d0b37961c73335575d",
            "f91b3609ffee4cbcba528f98b52b9887",
            "1a7bb082d5eb4baf8a1606000da55d02",
            "ceb725e78b084fb9982f1ffc90a330ed",
            "0b80fa022d5f4d298048845e756a84a4",
            "5368c572de6d4c84b2a9227a7c8cb3d9",
            "28e34bf1dc714c898a86d675ecebc26f",
            "8f75ffe4267b43e59f5bcd09886bfa52"
          ]
        },
        "outputId": "51425c92-c6b5-4b64-91e2-4720cd75435d"
      },
      "source": [
        "mnist_data,mnist_info = tfds.load(name='mnist',as_supervised=True,with_info=True)"
      ],
      "execution_count": 2,
      "outputs": [
        {
          "output_type": "stream",
          "text": [
            "WARNING:absl:Dataset mnist is hosted on GCS. It will automatically be downloaded to your\n",
            "local data directory. If you'd instead prefer to read directly from our public\n",
            "GCS bucket (recommended if you're running on GCP), you can instead set\n",
            "data_dir=gs://tfds-data/datasets.\n",
            "\n"
          ],
          "name": "stderr"
        },
        {
          "output_type": "stream",
          "text": [
            "\u001b[1mDownloading and preparing dataset mnist/3.0.0 (download: 11.06 MiB, generated: Unknown size, total: 11.06 MiB) to /root/tensorflow_datasets/mnist/3.0.0...\u001b[0m\n"
          ],
          "name": "stdout"
        },
        {
          "output_type": "display_data",
          "data": {
            "application/vnd.jupyter.widget-view+json": {
              "model_id": "09398ef2563b47d0b37961c73335575d",
              "version_minor": 0,
              "version_major": 2
            },
            "text/plain": [
              "HBox(children=(FloatProgress(value=0.0, description='Dl Completed...', max=4.0, style=ProgressStyle(descriptio…"
            ]
          },
          "metadata": {
            "tags": []
          }
        },
        {
          "output_type": "stream",
          "text": [
            "\n",
            "\n",
            "\u001b[1mDataset mnist downloaded and prepared to /root/tensorflow_datasets/mnist/3.0.0. Subsequent calls will reuse this data.\u001b[0m\n"
          ],
          "name": "stdout"
        }
      ]
    },
    {
      "cell_type": "markdown",
      "metadata": {
        "id": "I28Lruui6v4e",
        "colab_type": "text"
      },
      "source": [
        "**Pre Processing the data**"
      ]
    },
    {
      "cell_type": "code",
      "metadata": {
        "id": "lufQBS5U1Ui2",
        "colab_type": "code",
        "colab": {}
      },
      "source": [
        "#Split the data into train and test.\n",
        "mnist_train,mnist_test = mnist_data['train'],mnist_data['test']\n",
        "\n",
        "#Defining the percentage of the training and validation sets.\n",
        "num_validation = 0.1 * mnist_info.splits['train'].num_examples #10% of the training will be taken for validation.\n",
        "num_validation = tf.cast(num_validation, tf.int64)  #10% could be a non whole number. Let's cast into to a whole number.\n",
        "\n",
        "num_test = mnist_info.splits['test'].num_examples\n",
        "num_test = tf.cast(num_test, tf.int64)\n",
        "\n",
        "#We have to scale the image data\n",
        "def scale(image,label):\n",
        "  image = tf.cast(image, tf.float32)\n",
        "  image /= 255 #Since the images are grayscale with values between 0 and 255, let's covert the values between 0 and 1\n",
        "  return image,label\n",
        "\n",
        "#Let's use the function scale on train and test datasets\n",
        "mnist_train_scaled = mnist_train.map(scale)\n",
        "mnist_test_scaled = mnist_test.map(scale)\n",
        "\n",
        "#We have to shuffle the data to ensure it is randomly distributed throughout.\n",
        "\n",
        "Buffer_size = 10000    #A practice for when datasets are huge and all data can't be loaded into the memory.\n",
        "\n",
        "mnist_train_scaled_shuffled = mnist_train_scaled.shuffle(Buffer_size)\n",
        "\n",
        "#Splitting train and validation after shuffling\n",
        "validation_set = mnist_train_scaled_shuffled.take(num_validation)\n",
        "train_set = mnist_train_scaled_shuffled.skip(num_validation)\n",
        "\n",
        "# Defining batch size for batch gradient descent.\n",
        "batch_size = 100\n",
        "\n",
        "train_set = train_set.batch(batch_size) #Training set needs both FW prop and Back prop. Hence divide it into batches of 100\n",
        "validation_set = validation_set.batch(num_validation) #Take the entire set as 1 batch\n",
        "test_set = mnist_test_scaled.batch(num_test) #Take entire test set as 1 batch since it only needs fw prop.\n",
        "\n",
        "#Extracting and converting validation inputs and targets into seperate variables.\n",
        "validation_ips,validation_targets = next(iter(validation_set)) #iter makes the data iterable but doesn't load it. Next loads the data.\n",
        "\n"
      ],
      "execution_count": 3,
      "outputs": []
    },
    {
      "cell_type": "markdown",
      "metadata": {
        "id": "92fXJQpw7C9o",
        "colab_type": "text"
      },
      "source": [
        "**Modelling**"
      ]
    },
    {
      "cell_type": "code",
      "metadata": {
        "id": "g838Kme1Lfqo",
        "colab_type": "code",
        "colab": {}
      },
      "source": [
        "#Although CNNs are more efficient for learning image data, we will use a MLP for the Mnist dataaset.\n",
        "\n",
        "input_size = 784\n",
        "hidden_layer_size = 200\n",
        "output_size = 10\n",
        "\n",
        "model = tf.keras.Sequential([\n",
        "                             tf.keras.layers.Flatten(input_shape=(28,28,1)),\n",
        "                             tf.keras.layers.Dense(hidden_layer_size,activation='relu'),\n",
        "                             tf.keras.layers.Dense(hidden_layer_size,activation='relu'),\n",
        "                             tf.keras.layers.Dense(hidden_layer_size,activation='relu'),\n",
        "                             tf.keras.layers.Dense(output_size,activation='softmax')\n",
        "])"
      ],
      "execution_count": 4,
      "outputs": []
    },
    {
      "cell_type": "code",
      "metadata": {
        "id": "5gSpgjw17r_t",
        "colab_type": "code",
        "colab": {}
      },
      "source": [
        "model.compile(optimizer='adam',loss='sparse_categorical_crossentropy',metrics=['accuracy']) #For multiple classes we can either use categorical or \n",
        "                                                                                            #sparse categorical.Since we haven't one hot encoded our targets,\n",
        "                                                                                            #we use sparse categorical which automatically one hot encodes."
      ],
      "execution_count": 5,
      "outputs": []
    },
    {
      "cell_type": "code",
      "metadata": {
        "id": "o0ZZCE4fINZL",
        "colab_type": "code",
        "colab": {
          "base_uri": "https://localhost:8080/",
          "height": 204
        },
        "outputId": "485c92ec-6fe9-49a3-d21c-e569c6fc2503"
      },
      "source": [
        "epochs = 5\n",
        "model.fit(train_set,epochs=epochs,verbose=2,validation_data=(validation_ips,validation_targets))"
      ],
      "execution_count": 29,
      "outputs": [
        {
          "output_type": "stream",
          "text": [
            "Epoch 1/5\n",
            "540/540 - 9s - loss: 0.4245 - accuracy: 0.8811 - val_loss: 0.2090 - val_accuracy: 0.9407\n",
            "Epoch 2/5\n",
            "540/540 - 9s - loss: 0.1931 - accuracy: 0.9429 - val_loss: 0.1503 - val_accuracy: 0.9568\n",
            "Epoch 3/5\n",
            "540/540 - 9s - loss: 0.1440 - accuracy: 0.9575 - val_loss: 0.1297 - val_accuracy: 0.9622\n",
            "Epoch 4/5\n",
            "540/540 - 9s - loss: 0.1186 - accuracy: 0.9650 - val_loss: 0.1034 - val_accuracy: 0.9700\n",
            "Epoch 5/5\n",
            "540/540 - 9s - loss: 0.1005 - accuracy: 0.9704 - val_loss: 0.0921 - val_accuracy: 0.9735\n"
          ],
          "name": "stdout"
        },
        {
          "output_type": "execute_result",
          "data": {
            "text/plain": [
              "<tensorflow.python.keras.callbacks.History at 0x7f820b1a47f0>"
            ]
          },
          "metadata": {
            "tags": []
          },
          "execution_count": 29
        }
      ]
    },
    {
      "cell_type": "markdown",
      "metadata": {
        "id": "BVui2BPmQaHr",
        "colab_type": "text"
      },
      "source": [
        "The first model used the hyperparameters : hidden_layer_size = 50, depth : 2 hidden layers, Relu activation function,  adam optimizer, batch_size : 100\n",
        "\n",
        "validation accuracy : 97.35%"
      ]
    },
    {
      "cell_type": "code",
      "metadata": {
        "id": "D-QVLjN-Jsvb",
        "colab_type": "code",
        "colab": {
          "base_uri": "https://localhost:8080/",
          "height": 204
        },
        "outputId": "9e88a404-ad2b-4cbc-e384-5897afa57fbf"
      },
      "source": [
        "epochs = 5\n",
        "model.fit(train_set,epochs=epochs,verbose=2,validation_data=(validation_ips,validation_targets))"
      ],
      "execution_count": 33,
      "outputs": [
        {
          "output_type": "stream",
          "text": [
            "Epoch 1/5\n",
            "540/540 - 10s - loss: 0.2748 - accuracy: 0.9200 - val_loss: 0.1360 - val_accuracy: 0.9615\n",
            "Epoch 2/5\n",
            "540/540 - 10s - loss: 0.1027 - accuracy: 0.9694 - val_loss: 0.0817 - val_accuracy: 0.9768\n",
            "Epoch 3/5\n",
            "540/540 - 10s - loss: 0.0688 - accuracy: 0.9791 - val_loss: 0.0609 - val_accuracy: 0.9820\n",
            "Epoch 4/5\n",
            "540/540 - 9s - loss: 0.0504 - accuracy: 0.9845 - val_loss: 0.0506 - val_accuracy: 0.9847\n",
            "Epoch 5/5\n",
            "540/540 - 10s - loss: 0.0391 - accuracy: 0.9875 - val_loss: 0.0436 - val_accuracy: 0.9852\n"
          ],
          "name": "stdout"
        },
        {
          "output_type": "execute_result",
          "data": {
            "text/plain": [
              "<tensorflow.python.keras.callbacks.History at 0x7f81d4e57978>"
            ]
          },
          "metadata": {
            "tags": []
          },
          "execution_count": 33
        }
      ]
    },
    {
      "cell_type": "markdown",
      "metadata": {
        "id": "9D0smELWRaR1",
        "colab_type": "text"
      },
      "source": [
        "The second model used the hyperparameters : hidden_layer_size = 200, depth : 2 hidden layers, Relu activation function, adam optimizer, batch_size : 100\n",
        "\n",
        "validation accuracy : 98.5%"
      ]
    },
    {
      "cell_type": "code",
      "metadata": {
        "id": "zbiBAH1pKHoP",
        "colab_type": "code",
        "colab": {
          "base_uri": "https://localhost:8080/",
          "height": 204
        },
        "outputId": "22c4fcdf-14ed-4410-e1a1-0c60b759b3f9"
      },
      "source": [
        "epochs = 5\n",
        "model.fit(train_set,epochs=epochs,verbose=2,validation_data=(validation_ips,validation_targets))"
      ],
      "execution_count": 36,
      "outputs": [
        {
          "output_type": "stream",
          "text": [
            "Epoch 1/5\n",
            "540/540 - 10s - loss: 0.2640 - accuracy: 0.9214 - val_loss: 0.1151 - val_accuracy: 0.9673\n",
            "Epoch 2/5\n",
            "540/540 - 10s - loss: 0.1037 - accuracy: 0.9668 - val_loss: 0.0831 - val_accuracy: 0.9723\n",
            "Epoch 3/5\n",
            "540/540 - 10s - loss: 0.0679 - accuracy: 0.9786 - val_loss: 0.0551 - val_accuracy: 0.9828\n",
            "Epoch 4/5\n",
            "540/540 - 10s - loss: 0.0515 - accuracy: 0.9837 - val_loss: 0.0715 - val_accuracy: 0.9768\n",
            "Epoch 5/5\n",
            "540/540 - 10s - loss: 0.0441 - accuracy: 0.9856 - val_loss: 0.0446 - val_accuracy: 0.9863\n"
          ],
          "name": "stdout"
        },
        {
          "output_type": "execute_result",
          "data": {
            "text/plain": [
              "<tensorflow.python.keras.callbacks.History at 0x7f820b207da0>"
            ]
          },
          "metadata": {
            "tags": []
          },
          "execution_count": 36
        }
      ]
    },
    {
      "cell_type": "markdown",
      "metadata": {
        "id": "tb9nU_2qTads",
        "colab_type": "text"
      },
      "source": [
        "The third model used the hyperparameters : hidden_layer_size = 200, depth : 3 hidden layers, Relu activation function, adam optimizer, batch_size : 100\n",
        "\n",
        "validation accuracy : 98.63%"
      ]
    },
    {
      "cell_type": "code",
      "metadata": {
        "id": "_p1Dt43DRZza",
        "colab_type": "code",
        "colab": {
          "base_uri": "https://localhost:8080/",
          "height": 204
        },
        "outputId": "fa51914b-9341-47f2-904a-5e6d66cac754"
      },
      "source": [
        "epochs = 5\n",
        "model.fit(train_set,epochs=epochs,verbose=2,validation_data=(validation_ips,validation_targets))"
      ],
      "execution_count": 40,
      "outputs": [
        {
          "output_type": "stream",
          "text": [
            "Epoch 1/5\n",
            "540/540 - 10s - loss: 0.2805 - accuracy: 0.9166 - val_loss: 0.1561 - val_accuracy: 0.9532\n",
            "Epoch 2/5\n",
            "540/540 - 10s - loss: 0.1314 - accuracy: 0.9598 - val_loss: 0.1033 - val_accuracy: 0.9687\n",
            "Epoch 3/5\n",
            "540/540 - 10s - loss: 0.0906 - accuracy: 0.9719 - val_loss: 0.0847 - val_accuracy: 0.9743\n",
            "Epoch 4/5\n",
            "540/540 - 10s - loss: 0.0658 - accuracy: 0.9786 - val_loss: 0.0610 - val_accuracy: 0.9817\n",
            "Epoch 5/5\n",
            "540/540 - 10s - loss: 0.0510 - accuracy: 0.9839 - val_loss: 0.0508 - val_accuracy: 0.9833\n"
          ],
          "name": "stdout"
        },
        {
          "output_type": "execute_result",
          "data": {
            "text/plain": [
              "<tensorflow.python.keras.callbacks.History at 0x7f820ac6b4e0>"
            ]
          },
          "metadata": {
            "tags": []
          },
          "execution_count": 40
        }
      ]
    },
    {
      "cell_type": "markdown",
      "metadata": {
        "id": "W9Vo6lIQUSxR",
        "colab_type": "text"
      },
      "source": [
        "The fourth model used the hyperparameters : hidden_layer_size = 200, depth : 3 hidden layers, tanh activation function, adam optimizer, batch_size : 100\n",
        "\n",
        "validation accuracy : 98.33%"
      ]
    },
    {
      "cell_type": "code",
      "metadata": {
        "id": "eWHzUXkgURGd",
        "colab_type": "code",
        "colab": {
          "base_uri": "https://localhost:8080/",
          "height": 204
        },
        "outputId": "bdbc8873-287f-4b10-c320-f0b72feee46b"
      },
      "source": [
        "epochs = 5\n",
        "model.fit(train_set,epochs=epochs,verbose=2,validation_data=(validation_ips,validation_targets))"
      ],
      "execution_count": 45,
      "outputs": [
        {
          "output_type": "stream",
          "text": [
            "Epoch 1/5\n",
            "540/540 - 11s - loss: 0.2763 - accuracy: 0.9155 - val_loss: 0.1199 - val_accuracy: 0.9655\n",
            "Epoch 2/5\n",
            "540/540 - 11s - loss: 0.1049 - accuracy: 0.9673 - val_loss: 0.1006 - val_accuracy: 0.9678\n",
            "Epoch 3/5\n",
            "540/540 - 11s - loss: 0.0803 - accuracy: 0.9750 - val_loss: 0.0726 - val_accuracy: 0.9773\n",
            "Epoch 4/5\n",
            "540/540 - 11s - loss: 0.0613 - accuracy: 0.9815 - val_loss: 0.0644 - val_accuracy: 0.9798\n",
            "Epoch 5/5\n",
            "540/540 - 11s - loss: 0.0504 - accuracy: 0.9843 - val_loss: 0.0544 - val_accuracy: 0.9837\n"
          ],
          "name": "stdout"
        },
        {
          "output_type": "execute_result",
          "data": {
            "text/plain": [
              "<tensorflow.python.keras.callbacks.History at 0x7f820031db00>"
            ]
          },
          "metadata": {
            "tags": []
          },
          "execution_count": 45
        }
      ]
    },
    {
      "cell_type": "markdown",
      "metadata": {
        "id": "PgCuMRlaUzAU",
        "colab_type": "text"
      },
      "source": [
        "The fifth model used the hyperparameters : hidden_layer_size = 200, depth : 5 hidden layers, relu activation function, adam optimizer, batch_size : 100\n",
        "\n",
        "validation accuracy : 98.37%"
      ]
    },
    {
      "cell_type": "code",
      "metadata": {
        "id": "gnmBvEuKUIJw",
        "colab_type": "code",
        "colab": {
          "base_uri": "https://localhost:8080/",
          "height": 374
        },
        "outputId": "d6300415-9ec9-42e4-ed6d-9af5787b97ad"
      },
      "source": [
        "epochs = 10\n",
        "model.fit(train_set,epochs=epochs,verbose=2,validation_data=(validation_ips,validation_targets))"
      ],
      "execution_count": 6,
      "outputs": [
        {
          "output_type": "stream",
          "text": [
            "Epoch 1/10\n",
            "540/540 - 9s - loss: 0.2635 - accuracy: 0.9204 - val_loss: 0.1256 - val_accuracy: 0.9608\n",
            "Epoch 2/10\n",
            "540/540 - 9s - loss: 0.1002 - accuracy: 0.9692 - val_loss: 0.0805 - val_accuracy: 0.9768\n",
            "Epoch 3/10\n",
            "540/540 - 9s - loss: 0.0696 - accuracy: 0.9789 - val_loss: 0.0758 - val_accuracy: 0.9770\n",
            "Epoch 4/10\n",
            "540/540 - 9s - loss: 0.0500 - accuracy: 0.9844 - val_loss: 0.0602 - val_accuracy: 0.9830\n",
            "Epoch 5/10\n",
            "540/540 - 9s - loss: 0.0421 - accuracy: 0.9869 - val_loss: 0.0461 - val_accuracy: 0.9868\n",
            "Epoch 6/10\n",
            "540/540 - 9s - loss: 0.0348 - accuracy: 0.9885 - val_loss: 0.0365 - val_accuracy: 0.9903\n",
            "Epoch 7/10\n",
            "540/540 - 9s - loss: 0.0289 - accuracy: 0.9909 - val_loss: 0.0409 - val_accuracy: 0.9878\n",
            "Epoch 8/10\n",
            "540/540 - 9s - loss: 0.0237 - accuracy: 0.9929 - val_loss: 0.0269 - val_accuracy: 0.9918\n",
            "Epoch 9/10\n",
            "540/540 - 9s - loss: 0.0221 - accuracy: 0.9923 - val_loss: 0.0300 - val_accuracy: 0.9907\n",
            "Epoch 10/10\n",
            "540/540 - 9s - loss: 0.0218 - accuracy: 0.9926 - val_loss: 0.0301 - val_accuracy: 0.9905\n"
          ],
          "name": "stdout"
        },
        {
          "output_type": "execute_result",
          "data": {
            "text/plain": [
              "<tensorflow.python.keras.callbacks.History at 0x7fc70250fcf8>"
            ]
          },
          "metadata": {
            "tags": []
          },
          "execution_count": 6
        }
      ]
    },
    {
      "cell_type": "markdown",
      "metadata": {
        "id": "_15uF-BUXjUw",
        "colab_type": "text"
      },
      "source": [
        "The sixth model used the hyperparameters : hidden_layer_size = 200, depth : 3 hidden layers, relu activation function, adam optimizer, batch_size : 100\n",
        "\n",
        "validation accuracy : 99.38%"
      ]
    },
    {
      "cell_type": "code",
      "metadata": {
        "id": "FaRENaoHVihB",
        "colab_type": "code",
        "colab": {
          "base_uri": "https://localhost:8080/",
          "height": 51
        },
        "outputId": "7c991210-65a6-4c6f-b12f-4b38015b1e82"
      },
      "source": [
        "##Testing the model on the test data.\n",
        "test_loss,test_accuracy = model.evaluate(train_set)\n",
        "\n",
        "print('Test loss : {loss:.2f}, Test accuracy : {accuracy:.2f}%'.format(loss=test_loss,accuracy=test_accuracy*100))"
      ],
      "execution_count": 9,
      "outputs": [
        {
          "output_type": "stream",
          "text": [
            "540/540 [==============================] - 8s 16ms/step - loss: 0.0159 - accuracy: 0.9948\n",
            "Test loss : 0.02, Test accuracy : 99.48%\n"
          ],
          "name": "stdout"
        }
      ]
    },
    {
      "cell_type": "code",
      "metadata": {
        "id": "00sfb6shFlgI",
        "colab_type": "code",
        "colab": {}
      },
      "source": [
        ""
      ],
      "execution_count": null,
      "outputs": []
    }
  ]
}